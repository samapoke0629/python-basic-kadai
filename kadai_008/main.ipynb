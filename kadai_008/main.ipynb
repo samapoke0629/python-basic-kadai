{
  "nbformat": 4,
  "nbformat_minor": 0,
  "metadata": {
    "colab": {
      "provenance": []
    },
    "kernelspec": {
      "name": "python3",
      "display_name": "Python 3"
    },
    "language_info": {
      "name": "python"
    }
  },
  "cells": [
    {
      "cell_type": "code",
      "execution_count": null,
      "metadata": {
        "colab": {
          "base_uri": "https://localhost:8080/"
        },
        "id": "VINn03KO7YFj",
        "outputId": "f5bd204e-9635-4c17-ad11-b3272a8cee35"
      },
      "outputs": [
        {
          "output_type": "stream",
          "name": "stdout",
          "text": [
            "変数numは10より大きいです\n",
            "63\n",
            "True\n",
            "False\n",
            "num1とnum2は等しいです\n"
          ]
        }
      ],
      "source": [
        "num = 50\n",
        "\n",
        "# 変数numが10より大きいなら、文字列を出力する\n",
        "if 10 < num:\n",
        "    print(\"変数numは10より大きいです\")\n",
        "\n",
        "# 変数numが20より小さいなら、文字列を出力する\n",
        "if num < 20:\n",
        "    print(\"変数numは20より小さいです\")\n",
        "\n",
        "print(45 + 18) # 算術演算子を使った場合の戻り値を出力する\n",
        "print(45 > 18) # 比較演算子を使った場合の戻り値を出力する\n",
        "\n",
        "print(\"5\" == 5)\n",
        "\n",
        "\n",
        "num1 = 5\n",
        "num2 = \"5\"\n",
        "\n",
        "if num1 == int(num2):\n",
        "    print(\"num1とnum2は等しいです\")\n"
      ]
    },
    {
      "cell_type": "code",
      "source": [],
      "metadata": {
        "id": "_t2b9C5sBxou"
      },
      "execution_count": null,
      "outputs": []
    },
    {
      "cell_type": "code",
      "source": [
        "#ランダムな整数を利用するために、randomモジュールをインポート\n",
        "import random\n",
        "\n",
        "# 変数numに0～4までのランダムな整数を代入する\n",
        "num = random.randint(0, 4)\n",
        "\n",
        "# 変数numの値を出力\n",
        "print(num)\n",
        "\n",
        "# 変数numの値が4であれば、「大当たりです」という文字列を出力する\n",
        "if num == 4:\n",
        "    print(\"大当たりです\")"
      ],
      "metadata": {
        "colab": {
          "base_uri": "https://localhost:8080/"
        },
        "id": "jc4FTag47mfI",
        "outputId": "19776b59-1d8b-4b03-d5a6-e834a9bd8707"
      },
      "execution_count": null,
      "outputs": [
        {
          "output_type": "stream",
          "name": "stdout",
          "text": [
            "4\n",
            "大当たりです\n"
          ]
        }
      ]
    },
    {
      "cell_type": "code",
      "source": [
        "#ランダムな整数を利用するために、randomモジュールをインポート\n",
        "import random\n",
        "\n",
        "# 変数numに0～4までのランダムな整数を代入する\n",
        "num = random.randint(0, 4)\n",
        "\n",
        "# 変数numの値を出力\n",
        "print(num)\n",
        "\n",
        "# 変数numの値が4なら「大当たりです」、それ以外なら「はずれです」と出力する\n",
        "if num == 4:\n",
        "    print(\"大当たりです\")\n",
        "else:\n",
        "    print(\"はずれです\")"
      ],
      "metadata": {
        "colab": {
          "base_uri": "https://localhost:8080/"
        },
        "id": "xb_56v0I7vA9",
        "outputId": "695cd621-921d-43bf-e8bc-d65061191625"
      },
      "execution_count": null,
      "outputs": [
        {
          "output_type": "stream",
          "name": "stdout",
          "text": [
            "1\n",
            "はずれです\n"
          ]
        }
      ]
    },
    {
      "cell_type": "code",
      "source": [
        "#ランダムな整数を利用するために、randomモジュールをインポート\n",
        "import random\n",
        "\n",
        "# 変数numに0～4までのランダムな整数を代入する\n",
        "num = random.randint(0, 4)\n",
        "\n",
        "# 変数numの値を出力\n",
        "print(num)\n",
        "\n",
        "# 変数numの値が4なら「大当たりです」、3なら「当たりです」、それ以外なら「はずれです」と出力する\n",
        "if num == 4:\n",
        "    print(\"大当たりです\")\n",
        "elif num == 3:\n",
        "    print(\"当たりです\")\n",
        "else:\n",
        "    print(\"はずれです\")"
      ],
      "metadata": {
        "colab": {
          "base_uri": "https://localhost:8080/"
        },
        "id": "tSvlvAgJ7yQQ",
        "outputId": "c7fbc2d5-cb1a-4444-eb75-5283615d82f6"
      },
      "execution_count": null,
      "outputs": [
        {
          "output_type": "stream",
          "name": "stdout",
          "text": [
            "3\n",
            "当たりです\n"
          ]
        }
      ]
    },
    {
      "cell_type": "code",
      "source": [
        "if 10 < num:\n",
        "    print(\"変数numは10より大きいです\")\n",
        "\n",
        "# すべての条件が成り立つ場合にのみ処理を行う（変数numの値が11～29）g\n",
        "if 10 < num and num < 30:\n",
        "    print(\"変数numは10より大きく、30より小さいです\")\n",
        "\n",
        "# 1つでも条件が成り立てば処理を行う（変数numの値が10または30）\n",
        "if num == 10 or num == 30:\n",
        "    print(\"変数numは10または30です\")"
      ],
      "metadata": {
        "id": "ZaCdB-3Y72go"
      },
      "execution_count": null,
      "outputs": []
    },
    {
      "cell_type": "code",
      "source": [
        "#ランダムな整数を利用するために、randomモジュールをインポート\n",
        "import random\n",
        "\n",
        "# 変数numに0～4までのランダムな整数を代入する\n",
        "num = random.randint(0, 4)\n",
        "\n",
        "# 変数numの値を出力\n",
        "print(num)\n",
        "\n",
        "# すべての条件が成り立つ場合にのみ処理を行う（変数numの値が2）\n",
        "if 1 < num and num < 3:\n",
        "    print(\"変数numは1より大きく、3より小さいです\")\n",
        "else:\n",
        "    print(\"and条件が成り立ちませんでした\")\n",
        "\n",
        "# 1つでも条件が成り立てば処理を行う（変数numの値が1または3）\n",
        "if num == 1 or num == 3:\n",
        "    print(\"変数numは1または3です\")\n",
        "else:\n",
        "    print(\"or条件が成り立ちませんでした\")\n"
      ],
      "metadata": {
        "id": "UoLq0zNL751K",
        "outputId": "5c615bfa-4e25-4d58-9b7b-50cdd3032796",
        "colab": {
          "base_uri": "https://localhost:8080/"
        }
      },
      "execution_count": null,
      "outputs": [
        {
          "output_type": "stream",
          "name": "stdout",
          "text": [
            "1\n",
            "and条件が成り立ちませんでした\n",
            "変数numは1または3です\n"
          ]
        }
      ]
    },
    {
      "cell_type": "code",
      "source": [
        "import random  # random モジュールをインポート\n",
        "\n",
        "def fizz_buzz(var):\n",
        "    # var が3でも5でも割り切れる場合\n",
        "    if var % 3 == 0 and var % 5 == 0:\n",
        "        print(\"FizzBuzz\")\n",
        "    # var が3で割り切れる場合\n",
        "    elif var % 3 == 0:\n",
        "        print(\"Fizz\")\n",
        "    # var が5で割り切れる場合\n",
        "    elif var % 5 == 0:\n",
        "        print(\"Buzz\")\n",
        "    # それ以外の場合、var をそのまま出力\n",
        "    else:\n",
        "        print(var)\n",
        "\n",
        "# ランダムな値で関数をテスト\n",
        "for _ in range(5):  # 5回繰り返す\n",
        "    random_var = random.randint(1, 100)  # 1から100の間でランダムな整数を生成\n",
        "    print(f\"Testing with: {random_var}\")  # テストする値を表示\n",
        "    fizz_buzz(random_var)  # 関数を呼び出し"
      ],
      "metadata": {
        "id": "A7mcyHjvByvQ"
      },
      "execution_count": null,
      "outputs": []
    }
  ]
}