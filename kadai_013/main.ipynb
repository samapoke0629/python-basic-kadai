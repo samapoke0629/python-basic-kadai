{
  "nbformat": 4,
  "nbformat_minor": 0,
  "metadata": {
    "colab": {
      "provenance": []
    },
    "kernelspec": {
      "name": "python3",
      "display_name": "Python 3"
    },
    "language_info": {
      "name": "python"
    }
  },
  "cells": [
    {
      "cell_type": "code",
      "execution_count": 1,
      "metadata": {
        "colab": {
          "base_uri": "https://localhost:8080/"
        },
        "id": "K1-JG7MSF5Wx",
        "outputId": "64dd3993-e1c7-4993-de33-ea2cc3c23340"
      },
      "outputs": [
        {
          "output_type": "stream",
          "name": "stdout",
          "text": [
            "110.00000000000001\n",
            "108.0\n",
            "550.0\n",
            "エラー: 価格は0以上である必要があります。\n"
          ]
        }
      ],
      "source": [
        "def calculate_total_price(price, tax_rate=0.10):\n",
        "    \"\"\"\n",
        "    商品の金額と消費税率を受け取り、税込み価格を計算して返す関数\n",
        "\n",
        "    Args:\n",
        "    price (float): 商品の金額\n",
        "    tax_rate (float): 消費税率（デフォルトは10%）\n",
        "\n",
        "    Returns:\n",
        "    float: 税込み価格\n",
        "\n",
        "    Raises:\n",
        "    ValueError: 価格または税率が負の値の場合\n",
        "    TypeError: 価格または税率が数値でない場合\n",
        "    \"\"\"\n",
        "    if not isinstance(price, (int, float)):\n",
        "        raise TypeError(\"価格は数値である必要があります。\")\n",
        "    if not isinstance(tax_rate, (int, float)):\n",
        "        raise TypeError(\"消費税率は数値である必要があります。\")\n",
        "    if price < 0:\n",
        "        raise ValueError(\"価格は0以上である必要があります。\")\n",
        "    if tax_rate < 0:\n",
        "        raise ValueError(\"消費税率は0以上である必要があります。\")\n",
        "\n",
        "    total_price = price * (1 + tax_rate)\n",
        "    return total_price\n",
        "\n",
        "# 関数をテスト\n",
        "try:\n",
        "    print(calculate_total_price(100))  # 100円の商品の税込み価格を計算\n",
        "    print(calculate_total_price(100, 0.08))  # 100円の商品の税込み価格を計算（消費税率は8%）\n",
        "    print(calculate_total_price(500, 0.10))  # 500円の商品の税込み価格を計算（消費税率は10%）\n",
        "    print(calculate_total_price(-100))  # 不正な価格でエラーをテスト\n",
        "except Exception as e:\n",
        "    print(f\"エラー: {e}\")"
      ]
    }
  ]
}