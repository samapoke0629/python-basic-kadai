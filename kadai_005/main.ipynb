{
  "nbformat": 4,
  "nbformat_minor": 0,
  "metadata": {
    "colab": {
      "provenance": [],
      "gpuType": "T4"
    },
    "kernelspec": {
      "name": "python3",
      "display_name": "Python 3"
    },
    "language_info": {
      "name": "python"
    },
    "accelerator": "GPU"
  },
  "cells": [
    {
      "cell_type": "code",
      "execution_count": 1,
      "metadata": {
        "colab": {
          "base_uri": "https://localhost:8080/"
        },
        "id": "5OJumiTbtVqc",
        "outputId": "b53946d9-8397-4753-a48b-dc984edba80d"
      },
      "outputs": [
        {
          "output_type": "stream",
          "name": "stdout",
          "text": [
            "2\n",
            "3\n"
          ]
        }
      ],
      "source": [
        "print(1+1)\n",
        "print(1+2)"
      ]
    },
    {
      "cell_type": "code",
      "source": [
        "age = 18 # 年齢\n",
        "\n",
        "if age < 20:\n",
        "    '''\n",
        "    # 未成年の場合\n",
        "    print(\"ジュースで乾杯！\")\n",
        "else:\n",
        "    '''\n",
        "    # 成年の場合\n",
        "    print(\"お酒で乾杯！\")"
      ],
      "metadata": {
        "colab": {
          "base_uri": "https://localhost:8080/"
        },
        "id": "rBzLHyE8tnxA",
        "outputId": "8e093bf1-d41f-484a-ed4a-8984a819ae3b"
      },
      "execution_count": 5,
      "outputs": [
        {
          "output_type": "stream",
          "name": "stdout",
          "text": [
            "お酒で乾杯！\n"
          ]
        }
      ]
    },
    {
      "cell_type": "code",
      "source": [
        "print(type(30 / 3))\n",
        "print(45 + 18)\n",
        "print(30 - 12)\n",
        "print(15 * 6)\n",
        "print(30 / 3)\n",
        "print(45 % 8)\n"
      ],
      "metadata": {
        "colab": {
          "base_uri": "https://localhost:8080/"
        },
        "id": "0x10B3_1uiCv",
        "outputId": "b1ebeabc-fdf0-493b-e11b-646537716877"
      },
      "execution_count": 10,
      "outputs": [
        {
          "output_type": "stream",
          "name": "stdout",
          "text": [
            "<class 'float'>\n",
            "63\n",
            "18\n",
            "90\n",
            "10.0\n",
            "5\n"
          ]
        }
      ]
    },
    {
      "cell_type": "code",
      "source": [
        "print(\"今日の天気は\" + \"晴れ\")\n",
        "print(\"今日の天気は\" \"曇り\")\n",
        "print(\"降水確率\" + str(50) + \"％\" )\n",
        "print(\"晴れ\" * 5)\n",
        "print(\"晴れ\" + \"晴れ\" + \"晴れ\" + \"晴れ\" + \"晴れ\")\n"
      ],
      "metadata": {
        "colab": {
          "base_uri": "https://localhost:8080/"
        },
        "id": "6fZYgK4tulq_",
        "outputId": "56920f44-6ffe-46b8-adda-675bb3ea0c5b"
      },
      "execution_count": 11,
      "outputs": [
        {
          "output_type": "stream",
          "name": "stdout",
          "text": [
            "今日の天気は晴れ\n",
            "今日の天気は曇り\n",
            "降水確率50％\n",
            "晴れ晴れ晴れ晴れ晴れ\n",
            "晴れ晴れ晴れ晴れ晴れ\n"
          ]
        }
      ]
    },
    {
      "cell_type": "code",
      "source": [
        "user_name = \"侍太郎\"\n",
        "print(user_name)\n",
        "user_name = \"侍太郎\"\n",
        "print(user_name)\n",
        "\n",
        "user_name = \"侍花子\"\n",
        "print(user_name)\n"
      ],
      "metadata": {
        "colab": {
          "base_uri": "https://localhost:8080/"
        },
        "id": "5nrD2sR8vHN9",
        "outputId": "1c807eb3-2d6e-423e-ad7c-f4a361c79eb8"
      },
      "execution_count": 13,
      "outputs": [
        {
          "output_type": "stream",
          "name": "stdout",
          "text": [
            "侍太郎\n",
            "侍太郎\n",
            "侍花子\n"
          ]
        }
      ]
    },
    {
      "cell_type": "code",
      "source": [],
      "metadata": {
        "id": "hhEKdWzXvJ_f"
      },
      "execution_count": null,
      "outputs": []
    },
    {
      "cell_type": "code",
      "source": [
        "# 整数型と浮動小数点型の足し算\n",
        "number1 = 5\n",
        "number2 = 2.5\n",
        "print(number1 + number2)\n",
        "\n",
        "# 文字列型と文字列型の連結\n",
        "last_name  = \"侍\"\n",
        "first_name = \"太郎\"\n",
        "print(last_name + first_name)\n"
      ],
      "metadata": {
        "colab": {
          "base_uri": "https://localhost:8080/"
        },
        "id": "qWgg-VvSvMJ0",
        "outputId": "a704185e-1821-4126-e068-ce45ca7025a1"
      },
      "execution_count": 14,
      "outputs": [
        {
          "output_type": "stream",
          "name": "stdout",
          "text": [
            "7.5\n",
            "侍太郎\n"
          ]
        }
      ]
    },
    {
      "cell_type": "code",
      "source": [
        "last_name   = \"侍\"\n",
        "first_name  = \"太郎\"\n",
        "sister_name = \"花子\"\n",
        "\n",
        "# 3つの変数を文字列内に埋め込んで表示\n",
        "print(f\"私の名前は{last_name}{first_name}です。妹の名前は{sister_name}です。\")\n"
      ],
      "metadata": {
        "colab": {
          "base_uri": "https://localhost:8080/"
        },
        "id": "_OD36XdFvV4d",
        "outputId": "63075f4b-56a6-4888-c47d-c832f0ee6f4e"
      },
      "execution_count": 15,
      "outputs": [
        {
          "output_type": "stream",
          "name": "stdout",
          "text": [
            "私の名前は侍太郎です。妹の名前は花子です。\n"
          ]
        }
      ]
    },
    {
      "cell_type": "code",
      "source": [
        "# 推奨\n",
        "snake_case = \"◎\" # 全部小文字・単語をアンダースコアで区切る\n",
        "snake      = \"◎\" # 1単語の場合はアンダースコアがなくてもOK\n",
        "\n",
        "# 非推奨（エラーにはならない）\n",
        "camelCase    = \"△\" # キャメルケースは非推奨\n",
        "ＳＮＡＫＥ   = \"△\" # 全角は非推奨\n",
        "snake_ケース = \"△\" # 日本語は非推奨\n",
        "\n",
        "# NG（そもそもエラーになる）\n",
        "#1snake = \"×\"     # 先頭が数字は不可\n",
        "#snake\\case = \"×\" # アンダースコア以外の記号は使用不可\n"
      ],
      "metadata": {
        "id": "o3KLxZfevZhx"
      },
      "execution_count": 17,
      "outputs": []
    },
    {
      "cell_type": "code",
      "source": [
        "# 台形の面積を計算する関数\n",
        "def calculate_trapezoid_area(top, bottom, height):\n",
        "    # 台形の面積の公式を使用\n",
        "    area = (top + bottom) * height / 2\n",
        "    return area\n",
        "\n",
        "# 変数に値を設定\n",
        "top_side = 10  # 上辺\n",
        "bottom_side = 20  # 下辺\n",
        "height = 5  # 高さ\n",
        "\n",
        "# 面積を計算\n",
        "area = calculate_trapezoid_area(top_side, bottom_side, height)\n",
        "\n",
        "# 結果を表示\n",
        "print(f\"台形の面積: {area} cm²\")"
      ],
      "metadata": {
        "id": "gmKlPUGVy4zY"
      },
      "execution_count": null,
      "outputs": []
    }
  ]
}