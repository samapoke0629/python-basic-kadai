{
  "nbformat": 4,
  "nbformat_minor": 0,
  "metadata": {
    "colab": {
      "provenance": []
    },
    "kernelspec": {
      "name": "python3",
      "display_name": "Python 3"
    },
    "language_info": {
      "name": "python"
    }
  },
  "cells": [
    {
      "cell_type": "code",
      "execution_count": 20,
      "metadata": {
        "colab": {
          "base_uri": "https://localhost:8080/"
        },
        "id": "BuiQHoHvxuvA",
        "outputId": "1be147c3-8039-41fa-be4a-6ea7c14b3bc4"
      },
      "outputs": [
        {
          "output_type": "stream",
          "name": "stdout",
          "text": [
            "シャンプー\n",
            "コーヒー\n",
            "侍太郎\n",
            "36\n",
            "男性\n"
          ]
        }
      ],
      "source": [
        "class Product:\n",
        "    def __init__(self, name=\"\"):\n",
        "        # 属性を定義する\n",
        "        self.name = name\n",
        "\n",
        "    # メソッドを定義する\n",
        "    def set_name(self, name):\n",
        "        self.name = name\n",
        "\n",
        "    def show_name(self):\n",
        "        print(self.name)\n",
        "\n",
        "# インスタンス化し、メソッドを使用する例\n",
        "shampoo = Product()\n",
        "shampoo.set_name(\"シャンプー\")\n",
        "shampoo.show_name()\n",
        "\n",
        "coffee = Product()\n",
        "coffee.set_name(\"コーヒー\")\n",
        "coffee.show_name()\n",
        "\n",
        "class User:\n",
        "    # コンストラクタを定義する\n",
        "    def __init__(self, name, age, gender):\n",
        "        self.name = name\n",
        "        self.age = age\n",
        "        self.gender = gender\n",
        "\n",
        "# インスタンス化する\n",
        "user = User(\"侍太郎\", 36, \"男性\")\n",
        "\n",
        "# 属性にアクセスし、値を出力する\n",
        "print(user.name)\n",
        "print(user.age)\n",
        "print(user.gender)"
      ]
    },
    {
      "cell_type": "code",
      "source": [
        "class Human:\n",
        "    def __init__(self, name, age):\n",
        "        \"\"\"\n",
        "        Humanクラスのコンストラクタ\n",
        "        :param name: 人の名前\n",
        "        :param age: 人の年齢\n",
        "        \"\"\"\n",
        "        self.name = name\n",
        "        self.age = age\n",
        "\n",
        "    def printinfo(self):\n",
        "        \"\"\"\n",
        "        インスタンスの名前と年齢を出力する\n",
        "        \"\"\"\n",
        "        print(f\"名前: {self.name}, 年齢: {self.age}\")\n",
        "\n",
        "# Humanクラスのインスタンスを作成し、使用する例\n",
        "person = Human(\"山田太郎\", 30)\n",
        "person.printinfo()"
      ],
      "metadata": {
        "colab": {
          "base_uri": "https://localhost:8080/"
        },
        "id": "Pi64aWgqzRmE",
        "outputId": "24979bfb-5065-47df-96cf-23f467b54fd0"
      },
      "execution_count": 19,
      "outputs": [
        {
          "output_type": "stream",
          "name": "stdout",
          "text": [
            "名前: 山田太郎, 年齢: 30\n"
          ]
        }
      ]
    }
  ]
}